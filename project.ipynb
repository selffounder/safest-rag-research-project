{
 "cells": [
  {
   "cell_type": "code",
   "execution_count": null,
   "id": "75ce39b1-3ca8-4d82-b40c-8150910658b4",
   "metadata": {},
   "outputs": [],
   "source": [
    "!pip install langchain langchain-community langchain-groq python-dotenv\n"
   ]
  },
  {
   "cell_type": "code",
   "execution_count": 1,
   "id": "5a6260bc-3266-4502-b2a5-c37ba5e0bddb",
   "metadata": {},
   "outputs": [
    {
     "name": "stdout",
     "output_type": "stream",
     "text": [
      "Requirement already satisfied: langchain in c:\\users\\chiza\\appdata\\local\\programs\\python\\python312\\lib\\site-packages (0.3.23)\n",
      "Requirement already satisfied: openai in c:\\users\\chiza\\appdata\\local\\programs\\python\\python312\\lib\\site-packages (1.73.0)\n",
      "Requirement already satisfied: datasets in c:\\users\\chiza\\appdata\\local\\programs\\python\\python312\\lib\\site-packages (3.5.0)\n",
      "Requirement already satisfied: tiktoken in c:\\users\\chiza\\appdata\\local\\programs\\python\\python312\\lib\\site-packages (0.9.0)\n",
      "Requirement already satisfied: qdrant-client in c:\\users\\chiza\\appdata\\local\\programs\\python\\python312\\lib\\site-packages (1.13.3)\n",
      "Requirement already satisfied: pipwin in c:\\users\\chiza\\appdata\\local\\programs\\python\\python312\\lib\\site-packages (0.5.2)\n",
      "Requirement already satisfied: langchain_community in c:\\users\\chiza\\appdata\\local\\programs\\python\\python312\\lib\\site-packages (0.3.21)\n",
      "Requirement already satisfied: langchainhub in c:\\users\\chiza\\appdata\\local\\programs\\python\\python312\\lib\\site-packages (0.1.21)\n",
      "Requirement already satisfied: groq in c:\\users\\chiza\\appdata\\local\\programs\\python\\python312\\lib\\site-packages (0.22.0)\n",
      "Requirement already satisfied: pypdf in c:\\users\\chiza\\appdata\\local\\programs\\python\\python312\\lib\\site-packages (5.4.0)\n",
      "Requirement already satisfied: langchain-core<1.0.0,>=0.3.51 in c:\\users\\chiza\\appdata\\local\\programs\\python\\python312\\lib\\site-packages (from langchain) (0.3.51)\n",
      "Requirement already satisfied: langchain-text-splitters<1.0.0,>=0.3.8 in c:\\users\\chiza\\appdata\\local\\programs\\python\\python312\\lib\\site-packages (from langchain) (0.3.8)\n",
      "Requirement already satisfied: langsmith<0.4,>=0.1.17 in c:\\users\\chiza\\appdata\\local\\programs\\python\\python312\\lib\\site-packages (from langchain) (0.3.11)\n",
      "Requirement already satisfied: pydantic<3.0.0,>=2.7.4 in c:\\users\\chiza\\appdata\\local\\programs\\python\\python312\\lib\\site-packages (from langchain) (2.11.2)\n",
      "Requirement already satisfied: SQLAlchemy<3,>=1.4 in c:\\users\\chiza\\appdata\\local\\programs\\python\\python312\\lib\\site-packages (from langchain) (2.0.29)\n",
      "Requirement already satisfied: requests<3,>=2 in c:\\users\\chiza\\appdata\\local\\programs\\python\\python312\\lib\\site-packages (from langchain) (2.32.3)\n",
      "Requirement already satisfied: PyYAML>=5.3 in c:\\users\\chiza\\appdata\\local\\programs\\python\\python312\\lib\\site-packages (from langchain) (6.0.2)\n",
      "Requirement already satisfied: anyio<5,>=3.5.0 in c:\\users\\chiza\\appdata\\local\\programs\\python\\python312\\lib\\site-packages (from openai) (4.3.0)\n",
      "Requirement already satisfied: distro<2,>=1.7.0 in c:\\users\\chiza\\appdata\\local\\programs\\python\\python312\\lib\\site-packages (from openai) (1.9.0)\n",
      "Requirement already satisfied: httpx<1,>=0.23.0 in c:\\users\\chiza\\appdata\\local\\programs\\python\\python312\\lib\\site-packages (from openai) (0.27.2)\n",
      "Requirement already satisfied: jiter<1,>=0.4.0 in c:\\users\\chiza\\appdata\\local\\programs\\python\\python312\\lib\\site-packages (from openai) (0.9.0)\n",
      "Requirement already satisfied: sniffio in c:\\users\\chiza\\appdata\\local\\programs\\python\\python312\\lib\\site-packages (from openai) (1.3.1)\n",
      "Requirement already satisfied: tqdm>4 in c:\\users\\chiza\\appdata\\local\\programs\\python\\python312\\lib\\site-packages (from openai) (4.67.1)\n",
      "Requirement already satisfied: typing-extensions<5,>=4.11 in c:\\users\\chiza\\appdata\\local\\programs\\python\\python312\\lib\\site-packages (from openai) (4.13.1)\n",
      "Requirement already satisfied: filelock in c:\\users\\chiza\\appdata\\local\\programs\\python\\python312\\lib\\site-packages (from datasets) (3.16.0)\n",
      "Requirement already satisfied: numpy>=1.17 in c:\\users\\chiza\\appdata\\local\\programs\\python\\python312\\lib\\site-packages (from datasets) (2.1.1)\n",
      "Requirement already satisfied: pyarrow>=15.0.0 in c:\\users\\chiza\\appdata\\local\\programs\\python\\python312\\lib\\site-packages (from datasets) (19.0.1)\n",
      "Requirement already satisfied: dill<0.3.9,>=0.3.0 in c:\\users\\chiza\\appdata\\local\\programs\\python\\python312\\lib\\site-packages (from datasets) (0.3.8)\n",
      "Requirement already satisfied: pandas in c:\\users\\chiza\\appdata\\local\\programs\\python\\python312\\lib\\site-packages (from datasets) (2.2.2)\n",
      "Requirement already satisfied: xxhash in c:\\users\\chiza\\appdata\\local\\programs\\python\\python312\\lib\\site-packages (from datasets) (3.5.0)\n",
      "Requirement already satisfied: multiprocess<0.70.17 in c:\\users\\chiza\\appdata\\local\\programs\\python\\python312\\lib\\site-packages (from datasets) (0.70.16)\n",
      "Requirement already satisfied: fsspec<=2024.12.0,>=2023.1.0 in c:\\users\\chiza\\appdata\\local\\programs\\python\\python312\\lib\\site-packages (from fsspec[http]<=2024.12.0,>=2023.1.0->datasets) (2024.9.0)\n",
      "Requirement already satisfied: aiohttp in c:\\users\\chiza\\appdata\\local\\programs\\python\\python312\\lib\\site-packages (from datasets) (3.11.16)\n",
      "Requirement already satisfied: huggingface-hub>=0.24.0 in c:\\users\\chiza\\appdata\\local\\programs\\python\\python312\\lib\\site-packages (from datasets) (0.29.1)\n",
      "Requirement already satisfied: packaging in c:\\users\\chiza\\appdata\\local\\programs\\python\\python312\\lib\\site-packages (from datasets) (24.1)\n",
      "Requirement already satisfied: regex>=2022.1.18 in c:\\users\\chiza\\appdata\\local\\programs\\python\\python312\\lib\\site-packages (from tiktoken) (2024.11.6)\n",
      "Requirement already satisfied: grpcio>=1.41.0 in c:\\users\\chiza\\appdata\\local\\programs\\python\\python312\\lib\\site-packages (from qdrant-client) (1.71.0)\n",
      "Requirement already satisfied: grpcio-tools>=1.41.0 in c:\\users\\chiza\\appdata\\local\\programs\\python\\python312\\lib\\site-packages (from qdrant-client) (1.71.0)\n",
      "Requirement already satisfied: portalocker<3.0.0,>=2.7.0 in c:\\users\\chiza\\appdata\\local\\programs\\python\\python312\\lib\\site-packages (from qdrant-client) (2.10.1)\n",
      "Requirement already satisfied: urllib3<3,>=1.26.14 in c:\\users\\chiza\\appdata\\local\\programs\\python\\python312\\lib\\site-packages (from qdrant-client) (2.2.3)\n",
      "Requirement already satisfied: docopt in c:\\users\\chiza\\appdata\\local\\programs\\python\\python312\\lib\\site-packages (from pipwin) (0.6.2)\n",
      "Requirement already satisfied: pyprind in c:\\users\\chiza\\appdata\\local\\programs\\python\\python312\\lib\\site-packages (from pipwin) (2.11.3)\n",
      "Requirement already satisfied: six in c:\\users\\chiza\\appdata\\local\\programs\\python\\python312\\lib\\site-packages (from pipwin) (1.16.0)\n",
      "Requirement already satisfied: beautifulsoup4>=4.9.0 in c:\\users\\chiza\\appdata\\local\\programs\\python\\python312\\lib\\site-packages (from pipwin) (4.12.3)\n",
      "Requirement already satisfied: js2py in c:\\users\\chiza\\appdata\\local\\programs\\python\\python312\\lib\\site-packages (from pipwin) (0.74)\n",
      "Requirement already satisfied: pySmartDL>=1.3.1 in c:\\users\\chiza\\appdata\\local\\programs\\python\\python312\\lib\\site-packages (from pipwin) (1.3.4)\n",
      "Requirement already satisfied: tenacity!=8.4.0,<10,>=8.1.0 in c:\\users\\chiza\\appdata\\local\\programs\\python\\python312\\lib\\site-packages (from langchain_community) (9.0.0)\n",
      "Requirement already satisfied: dataclasses-json<0.7,>=0.5.7 in c:\\users\\chiza\\appdata\\local\\programs\\python\\python312\\lib\\site-packages (from langchain_community) (0.6.7)\n",
      "Requirement already satisfied: pydantic-settings<3.0.0,>=2.4.0 in c:\\users\\chiza\\appdata\\local\\programs\\python\\python312\\lib\\site-packages (from langchain_community) (2.8.1)\n",
      "Requirement already satisfied: httpx-sse<1.0.0,>=0.4.0 in c:\\users\\chiza\\appdata\\local\\programs\\python\\python312\\lib\\site-packages (from langchain_community) (0.4.0)\n",
      "Requirement already satisfied: types-requests<3.0.0.0,>=2.31.0.2 in c:\\users\\chiza\\appdata\\local\\programs\\python\\python312\\lib\\site-packages (from langchainhub) (2.32.0.20250328)\n",
      "Requirement already satisfied: aiohappyeyeballs>=2.3.0 in c:\\users\\chiza\\appdata\\local\\programs\\python\\python312\\lib\\site-packages (from aiohttp->datasets) (2.4.6)\n",
      "Requirement already satisfied: aiosignal>=1.1.2 in c:\\users\\chiza\\appdata\\local\\programs\\python\\python312\\lib\\site-packages (from aiohttp->datasets) (1.3.2)\n",
      "Requirement already satisfied: attrs>=17.3.0 in c:\\users\\chiza\\appdata\\local\\programs\\python\\python312\\lib\\site-packages (from aiohttp->datasets) (24.2.0)\n",
      "Requirement already satisfied: frozenlist>=1.1.1 in c:\\users\\chiza\\appdata\\local\\programs\\python\\python312\\lib\\site-packages (from aiohttp->datasets) (1.5.0)\n",
      "Requirement already satisfied: multidict<7.0,>=4.5 in c:\\users\\chiza\\appdata\\local\\programs\\python\\python312\\lib\\site-packages (from aiohttp->datasets) (6.1.0)\n",
      "Requirement already satisfied: propcache>=0.2.0 in c:\\users\\chiza\\appdata\\local\\programs\\python\\python312\\lib\\site-packages (from aiohttp->datasets) (0.3.0)\n",
      "Requirement already satisfied: yarl<2.0,>=1.17.0 in c:\\users\\chiza\\appdata\\local\\programs\\python\\python312\\lib\\site-packages (from aiohttp->datasets) (1.18.3)\n",
      "Requirement already satisfied: idna>=2.8 in c:\\users\\chiza\\appdata\\local\\programs\\python\\python312\\lib\\site-packages (from anyio<5,>=3.5.0->openai) (3.7)\n",
      "Requirement already satisfied: soupsieve>1.2 in c:\\users\\chiza\\appdata\\local\\programs\\python\\python312\\lib\\site-packages (from beautifulsoup4>=4.9.0->pipwin) (2.6)\n",
      "Requirement already satisfied: marshmallow<4.0.0,>=3.18.0 in c:\\users\\chiza\\appdata\\local\\programs\\python\\python312\\lib\\site-packages (from dataclasses-json<0.7,>=0.5.7->langchain_community) (3.26.1)\n",
      "Requirement already satisfied: typing-inspect<1,>=0.4.0 in c:\\users\\chiza\\appdata\\local\\programs\\python\\python312\\lib\\site-packages (from dataclasses-json<0.7,>=0.5.7->langchain_community) (0.9.0)\n",
      "Requirement already satisfied: protobuf<6.0dev,>=5.26.1 in c:\\users\\chiza\\appdata\\local\\programs\\python\\python312\\lib\\site-packages (from grpcio-tools>=1.41.0->qdrant-client) (5.29.3)\n",
      "Requirement already satisfied: setuptools in c:\\users\\chiza\\appdata\\local\\programs\\python\\python312\\lib\\site-packages (from grpcio-tools>=1.41.0->qdrant-client) (75.1.0)\n",
      "Requirement already satisfied: certifi in c:\\users\\chiza\\appdata\\local\\programs\\python\\python312\\lib\\site-packages (from httpx<1,>=0.23.0->openai) (2024.8.30)\n",
      "Requirement already satisfied: httpcore==1.* in c:\\users\\chiza\\appdata\\local\\programs\\python\\python312\\lib\\site-packages (from httpx<1,>=0.23.0->openai) (1.0.5)\n",
      "Requirement already satisfied: h11<0.15,>=0.13 in c:\\users\\chiza\\appdata\\local\\programs\\python\\python312\\lib\\site-packages (from httpcore==1.*->httpx<1,>=0.23.0->openai) (0.14.0)\n",
      "Requirement already satisfied: h2<5,>=3 in c:\\users\\chiza\\appdata\\local\\programs\\python\\python312\\lib\\site-packages (from httpx[http2]>=0.20.0->qdrant-client) (4.2.0)\n",
      "Requirement already satisfied: jsonpatch<2.0,>=1.33 in c:\\users\\chiza\\appdata\\local\\programs\\python\\python312\\lib\\site-packages (from langchain-core<1.0.0,>=0.3.51->langchain) (1.33)\n",
      "Requirement already satisfied: orjson<4.0.0,>=3.9.14 in c:\\users\\chiza\\appdata\\local\\programs\\python\\python312\\lib\\site-packages (from langsmith<0.4,>=0.1.17->langchain) (3.10.15)\n",
      "Requirement already satisfied: requests-toolbelt<2.0.0,>=1.0.0 in c:\\users\\chiza\\appdata\\local\\programs\\python\\python312\\lib\\site-packages (from langsmith<0.4,>=0.1.17->langchain) (1.0.0)\n",
      "Requirement already satisfied: zstandard<0.24.0,>=0.23.0 in c:\\users\\chiza\\appdata\\local\\programs\\python\\python312\\lib\\site-packages (from langsmith<0.4,>=0.1.17->langchain) (0.23.0)\n",
      "Requirement already satisfied: pywin32>=226 in c:\\users\\chiza\\appdata\\local\\programs\\python\\python312\\lib\\site-packages (from portalocker<3.0.0,>=2.7.0->qdrant-client) (306)\n",
      "Requirement already satisfied: annotated-types>=0.6.0 in c:\\users\\chiza\\appdata\\local\\programs\\python\\python312\\lib\\site-packages (from pydantic<3.0.0,>=2.7.4->langchain) (0.6.0)\n",
      "Requirement already satisfied: pydantic-core==2.33.1 in c:\\users\\chiza\\appdata\\local\\programs\\python\\python312\\lib\\site-packages (from pydantic<3.0.0,>=2.7.4->langchain) (2.33.1)\n",
      "Requirement already satisfied: typing-inspection>=0.4.0 in c:\\users\\chiza\\appdata\\local\\programs\\python\\python312\\lib\\site-packages (from pydantic<3.0.0,>=2.7.4->langchain) (0.4.0)\n",
      "Requirement already satisfied: python-dotenv>=0.21.0 in c:\\users\\chiza\\appdata\\local\\programs\\python\\python312\\lib\\site-packages (from pydantic-settings<3.0.0,>=2.4.0->langchain_community) (1.0.1)\n",
      "Requirement already satisfied: charset-normalizer<4,>=2 in c:\\users\\chiza\\appdata\\local\\programs\\python\\python312\\lib\\site-packages (from requests<3,>=2->langchain) (3.3.2)\n",
      "Requirement already satisfied: greenlet!=0.4.17 in c:\\users\\chiza\\appdata\\local\\programs\\python\\python312\\lib\\site-packages (from SQLAlchemy<3,>=1.4->langchain) (3.1.1)\n",
      "Requirement already satisfied: colorama in c:\\users\\chiza\\appdata\\local\\programs\\python\\python312\\lib\\site-packages (from tqdm>4->openai) (0.4.6)\n",
      "Requirement already satisfied: tzlocal>=1.2 in c:\\users\\chiza\\appdata\\local\\programs\\python\\python312\\lib\\site-packages (from js2py->pipwin) (5.3.1)\n",
      "Requirement already satisfied: pyjsparser>=2.5.1 in c:\\users\\chiza\\appdata\\local\\programs\\python\\python312\\lib\\site-packages (from js2py->pipwin) (2.7.1)\n",
      "Requirement already satisfied: python-dateutil>=2.8.2 in c:\\users\\chiza\\appdata\\local\\programs\\python\\python312\\lib\\site-packages (from pandas->datasets) (2.9.0.post0)\n",
      "Requirement already satisfied: pytz>=2020.1 in c:\\users\\chiza\\appdata\\local\\programs\\python\\python312\\lib\\site-packages (from pandas->datasets) (2024.2)\n",
      "Requirement already satisfied: tzdata>=2022.7 in c:\\users\\chiza\\appdata\\local\\programs\\python\\python312\\lib\\site-packages (from pandas->datasets) (2024.1)\n",
      "Requirement already satisfied: hyperframe<7,>=6.1 in c:\\users\\chiza\\appdata\\local\\programs\\python\\python312\\lib\\site-packages (from h2<5,>=3->httpx[http2]>=0.20.0->qdrant-client) (6.1.0)\n",
      "Requirement already satisfied: hpack<5,>=4.1 in c:\\users\\chiza\\appdata\\local\\programs\\python\\python312\\lib\\site-packages (from h2<5,>=3->httpx[http2]>=0.20.0->qdrant-client) (4.1.0)\n",
      "Requirement already satisfied: jsonpointer>=1.9 in c:\\users\\chiza\\appdata\\local\\programs\\python\\python312\\lib\\site-packages (from jsonpatch<2.0,>=1.33->langchain-core<1.0.0,>=0.3.51->langchain) (3.0.0)\n",
      "Requirement already satisfied: mypy-extensions>=0.3.0 in c:\\users\\chiza\\appdata\\local\\programs\\python\\python312\\lib\\site-packages (from typing-inspect<1,>=0.4.0->dataclasses-json<0.7,>=0.5.7->langchain_community) (1.0.0)\n",
      "Note: you may need to restart the kernel to use updated packages.\n"
     ]
    },
    {
     "name": "stderr",
     "output_type": "stream",
     "text": [
      "\n",
      "[notice] A new release of pip is available: 24.2 -> 25.0.1\n",
      "[notice] To update, run: python.exe -m pip install --upgrade pip\n"
     ]
    }
   ],
   "source": [
    "pip install langchain openai datasets tiktoken qdrant-client pipwin langchain_community langchainhub groq pypdf \n"
   ]
  },
  {
   "cell_type": "code",
   "execution_count": null,
   "id": "a9c58a42-55bf-4d72-bc9e-731356c7ce1e",
   "metadata": {},
   "outputs": [],
   "source": [
    "import os\n",
    "from dotenv import load_dotenv\n",
    "\n",
    "from langchain_community.document_loaders import TextLoader\n",
    "from langchain_text_splitters import RecursiveCharacterTextSplitter\n",
    "from langchain_community.embeddings import HuggingFaceEmbeddings\n",
    "from langchain_community.vectorstores import DocArrayInMemorySearch\n",
    "from langchain_groq import ChatGroq  # Correct import for Groq now\n",
    "from langchain.chains import RetrievalQA\n"
   ]
  },
  {
   "cell_type": "code",
   "execution_count": null,
   "id": "cd960ca6-01fd-46e4-a2e2-096145fcfa34",
   "metadata": {},
   "outputs": [
    {
     "name": "stdout",
     "output_type": "stream",
     "text": [
      "\n",
      "\n",
      "\u001b[1m> Entering new RetrievalQA chain...\u001b[0m\n",
      "\n",
      "\u001b[1m> Finished chain.\u001b[0m\n",
      "\n",
      " Question: Who works in QAZLaw?\n",
      " Answer: According to the provided information, Nazym Abisheva, who is 30 years old and holds the role of Legal Counsel, works at QAZLaw.\n"
     ]
    }
   ],
   "source": [
    "load_dotenv()\n",
    "groq_api_key = os.getenv(\"GROQ_API_KEY\")\n",
    "if not groq_api_key:\n",
    "    raise ValueError(\"Please set GROQ_API_KEY in environment or .env\")\n",
    "\n",
    "DOC_PATH = \"source.md\"\n",
    "if not os.path.exists(DOC_PATH):\n",
    "    with open(DOC_PATH, \"w\") as f:\n",
    "        f.write(\"Couldn't find the source.md file. Please ensure it exists in the current directory.\")\n",
    "\n",
    "documents = TextLoader(DOC_PATH).load()\n",
    "\n",
    "text_splitter = RecursiveCharacterTextSplitter(chunk_size=500, chunk_overlap=50)\n",
    "texts = text_splitter.split_documents(documents)\n",
    "\n",
    "embeddings = HuggingFaceEmbeddings(model_name=\"all-MiniLM-L6-v2\")\n",
    "vector_store = DocArrayInMemorySearch.from_documents(texts, embeddings)\n",
    "\n",
    "llm = ChatGroq(\n",
    "    model=\"llama3-8b-8192\",  \n",
    "    api_key=groq_api_key\n",
    ")\n",
    "\n",
    "qa_chain = RetrievalQA.from_chain_type(\n",
    "    llm=llm,\n",
    "    retriever=vector_store.as_retriever(),\n",
    "    verbose=True\n",
    ")\n",
    "\n",
    "query = \"Who works in QAZLaw?\"\n",
    "response = qa_chain.invoke(query)\n",
    "\n",
    "print(\"\\n Question:\", query)\n",
    "print(\" Answer:\", response['result'])\n"
   ]
  },
  {
   "cell_type": "code",
   "execution_count": 1,
   "id": "485c3e25-fe9e-43c6-82c3-6c224d396601",
   "metadata": {},
   "outputs": [
    {
     "name": "stdout",
     "output_type": "stream",
     "text": [
      "Requirement already satisfied: cryptography in c:\\users\\chiza\\appdata\\local\\programs\\python\\python312\\lib\\site-packages (44.0.2)\n",
      "Requirement already satisfied: cffi>=1.12 in c:\\users\\chiza\\appdata\\local\\programs\\python\\python312\\lib\\site-packages (from cryptography) (1.17.1)\n",
      "Requirement already satisfied: pycparser in c:\\users\\chiza\\appdata\\local\\programs\\python\\python312\\lib\\site-packages (from cffi>=1.12->cryptography) (2.22)\n"
     ]
    },
    {
     "name": "stderr",
     "output_type": "stream",
     "text": [
      "\n",
      "[notice] A new release of pip is available: 24.2 -> 25.0.1\n",
      "[notice] To update, run: python.exe -m pip install --upgrade pip\n"
     ]
    }
   ],
   "source": [
    "\n",
    "!pip install cryptography "
   ]
  },
  {
   "cell_type": "code",
   "execution_count": 1,
   "id": "0fa9c354-c4cf-4827-b541-1e6753f81415",
   "metadata": {},
   "outputs": [],
   "source": [
    "import os\n",
    "\n",
    "from dotenv import load_dotenv\n",
    "from cryptography.fernet import Fernet"
   ]
  },
  {
   "cell_type": "code",
   "execution_count": 2,
   "id": "48041da0-9ab4-4b02-a9bf-11fa6a0b8ab2",
   "metadata": {},
   "outputs": [
    {
     "name": "stdout",
     "output_type": "stream",
     "text": [
      "🔐 Your encryption key (save this in .env as SECURE_KEY):\n",
      "BoMqlCHadDyBeHas3GeSnUBQPHwVcvKHQVlLnNGGVCk=\n",
      "✅ Encrypted: source_example1.md ➜ source_example1.md.enc\n"
     ]
    }
   ],
   "source": [
    "\n",
    "from cryptography.fernet import Fernet\n",
    "\n",
    "INPUT_FILE = \"source_example1.md\"\n",
    "OUTPUT_FILE = INPUT_FILE + \".enc\"\n",
    "\n",
    "def encrypt_file(input_path, key, output_path):\n",
    "    fernet = Fernet(key)\n",
    "    with open(input_path, \"rb\") as f:\n",
    "        plaintext = f.read()\n",
    "    encrypted = fernet.encrypt(plaintext)\n",
    "    with open(output_path, \"wb\") as f:\n",
    "        f.write(encrypted)\n",
    "    print(f\"✅ Encrypted: {input_path} ➜ {output_path}\")\n",
    "\n",
    "def main():\n",
    "    key = Fernet.generate_key()\n",
    "    print(\"Encryption key (save this in .env as SECURE_KEY):\")\n",
    "    print(key.decode())\n",
    "\n",
    "    encrypt_file(INPUT_FILE, key, OUTPUT_FILE)\n",
    "\n",
    "if __name__ == \"__main__\":\n",
    "    main()\n"
   ]
  },
  {
   "cell_type": "code",
   "execution_count": 3,
   "id": "635fbd94-eba8-4b68-9fb2-df39125814ea",
   "metadata": {},
   "outputs": [],
   "source": [
    "# secure_rag.py\n",
    "\n",
    "import os\n",
    "import sys\n",
    "from dotenv import load_dotenv\n",
    "from cryptography.fernet import Fernet, InvalidToken\n",
    "\n",
    "from langchain_community.document_loaders import TextLoader\n",
    "from langchain_text_splitters import RecursiveCharacterTextSplitter\n",
    "from langchain_community.embeddings import HuggingFaceEmbeddings\n",
    "from langchain_community.vectorstores import DocArrayInMemorySearch\n",
    "from langchain_groq import ChatGroq\n",
    "from langchain.chains import RetrievalQA"
   ]
  },
  {
   "cell_type": "code",
   "execution_count": 9,
   "id": "c6c0132b-f45f-4ebc-adc9-4e421b38a0ab",
   "metadata": {},
   "outputs": [
    {
     "name": "stdout",
     "output_type": "stream",
     "text": [
      "Decrypting file...\n",
      "Loading and splitting document...\n",
      "Generating embeddings...\n",
      "Connecting to Groq (LLaMA 3 8B)...\n",
      " Asking LLM: What is the most popular company?\n",
      "\n",
      "LLM Response:\n",
      "Based on the given information, QazaqDrinks is the most popular company, as it is mentioned as the company for most of the individuals, including Galymzhan Serikov (CEO & Founder), Zhansaya Muratova (Sales Representative), Bauyrzhan Kalykov (COO), Kairat Bekturov (Distribution Manager), Lazzat Ibraimova (Brand Ambassador), and Marat Ongarov (Packaging Designer).\n",
      "Cleaned up temporary decrypted file.\n"
     ]
    }
   ],
   "source": [
    "\n",
    "load_dotenv()\n",
    "GROQ_API_KEY = os.getenv(\"GROQ_API_KEY\")\n",
    "SECURE_KEY = os.getenv(\"SECURE_KEY\")\n",
    "\n",
    "if not GROQ_API_KEY or not SECURE_KEY:\n",
    "    sys.exit(\"Missing GROQ_API_KEY or SECURE_KEY in your .env file\")\n",
    "\n",
    "\n",
    "def decrypt_file(file_path, key):\n",
    "    try:\n",
    "        fernet = Fernet(key)\n",
    "        with open(file_path, \"rb\") as f:\n",
    "            encrypted = f.read()\n",
    "        decrypted = fernet.decrypt(encrypted)\n",
    "        return decrypted.decode(\"utf-8\")\n",
    "    except InvalidToken:\n",
    "        sys.exit(\"Invalid decryption key! Double-check your SECURE_KEY.\")\n",
    "    except Exception as e:\n",
    "        sys.exit(f\"Failed to decrypt file: {e}\")\n",
    "\n",
    "\n",
    "print(\"Decrypting file...\")\n",
    "decrypted_text = decrypt_file(\"source_example1.md.enc\", SECURE_KEY)\n",
    "\n",
    "TEMP_FILE = \"temp_decrypted.md\"\n",
    "with open(TEMP_FILE, \"w\", encoding=\"utf-8\") as f:\n",
    "    f.write(decrypted_text)\n",
    "\n",
    "try:\n",
    "    \n",
    "    print(\"Loading and splitting document...\")\n",
    "    documents = TextLoader(TEMP_FILE).load()\n",
    "    splitter = RecursiveCharacterTextSplitter(chunk_size=500, chunk_overlap=50)\n",
    "    texts = splitter.split_documents(documents)\n",
    "\n",
    "    \n",
    "    print(\"Generating embeddings...\")\n",
    "    embeddings = HuggingFaceEmbeddings(model_name=\"all-MiniLM-L6-v2\")\n",
    "    vector_store = DocArrayInMemorySearch.from_documents(texts, embeddings)\n",
    "\n",
    "    print(\"Connecting to Groq (LLaMA 3 8B)...\")\n",
    "    llm = ChatGroq(model=\"llama3-8b-8192\", api_key=GROQ_API_KEY)\n",
    "\n",
    "\n",
    "    \n",
    "    qa_chain = RetrievalQA.from_chain_type(\n",
    "        llm=llm,\n",
    "        retriever=vector_store.as_retriever(),\n",
    "        verbose=False\n",
    "    )\n",
    "\n",
    "\n",
    "\n",
    "    query = \"What is the most popular company?\"\n",
    "    print(f\" Asking LLM: {query}\")\n",
    "    response = qa_chain.invoke(query)\n",
    "\n",
    "    print(\"\\nLLM Response:\\n\" + response[\"result\"])\n",
    "\n",
    "\n",
    "\n",
    "\n",
    "\n",
    "finally:\n",
    "    if os.path.exists(TEMP_FILE):\n",
    "        os.remove(TEMP_FILE)\n",
    "        print(\"Cleaned up temporary decrypted file.\")\n"
   ]
  },
  {
   "cell_type": "code",
   "execution_count": 46,
   "id": "dcc927a6-a665-4fb1-9e1d-39e60b341969",
   "metadata": {},
   "outputs": [
    {
     "name": "stderr",
     "output_type": "stream",
     "text": [
      "ERROR: Could not find a version that satisfies the requirement sys (from versions: none)\n",
      "\n",
      "[notice] A new release of pip is available: 24.2 -> 25.0.1\n",
      "[notice] To update, run: python.exe -m pip install --upgrade pip\n",
      "ERROR: No matching distribution found for sys\n"
     ]
    }
   ],
   "source": []
  }
 ],
 "metadata": {
  "kernelspec": {
   "display_name": "Python 3 (ipykernel)",
   "language": "python",
   "name": "python3"
  },
  "language_info": {
   "codemirror_mode": {
    "name": "ipython",
    "version": 3
   },
   "file_extension": ".py",
   "mimetype": "text/x-python",
   "name": "python",
   "nbconvert_exporter": "python",
   "pygments_lexer": "ipython3",
   "version": "3.12.6"
  }
 },
 "nbformat": 4,
 "nbformat_minor": 5
}
